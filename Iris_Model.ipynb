{
  "nbformat": 4,
  "nbformat_minor": 0,
  "metadata": {
    "colab": {
      "provenance": []
    },
    "kernelspec": {
      "name": "python3",
      "display_name": "Python 3"
    },
    "language_info": {
      "name": "python"
    }
  },
  "cells": [
    {
      "cell_type": "code",
      "execution_count": null,
      "metadata": {
        "id": "coTsSocHq9xt"
      },
      "outputs": [],
      "source": [
        "import pandas as pd\n",
        "import seaborn as sns\n",
        "import torch\n",
        "import torch.nn as nn\n",
        "import torch.nn.functional as F\n",
        "import numpy as np\n",
        "import matplotlib.pyplot as plt\n",
        "from sklearn.model_selection import train_test_split"
      ]
    },
    {
      "cell_type": "code",
      "source": [
        "# Get iris dataset\n",
        "iris = pd.read_csv('https://raw.githubusercontent.com/mwaskom/seaborn-data/master/iris.csv')\n",
        "iris"
      ],
      "metadata": {
        "id": "ZFV8eiwCrqmf"
      },
      "execution_count": null,
      "outputs": []
    },
    {
      "cell_type": "code",
      "source": [
        "# Visualize data as pair plot\n",
        "sns.pairplot(iris, hue = 'species')"
      ],
      "metadata": {
        "id": "l7bKez4Qrrxz",
        "collapsed": true
      },
      "execution_count": null,
      "outputs": []
    },
    {
      "cell_type": "code",
      "source": [
        "# Break dataset into x and y values\n",
        "x = iris.drop('species', axis = 1).values\n",
        "y = iris['species'].values\n",
        "x, y"
      ],
      "metadata": {
        "id": "T8CW263JTA3T"
      },
      "execution_count": null,
      "outputs": []
    },
    {
      "cell_type": "code",
      "source": [
        "# Convert strings to ints and express them as floats\n",
        "y[y == 'setosa'] = 0\n",
        "y[y == 'versicolor'] = 1\n",
        "y[y == 'virginica'] = 2\n",
        "y = y.astype(float)\n",
        "y"
      ],
      "metadata": {
        "id": "CcZwuCh2TwvV"
      },
      "execution_count": null,
      "outputs": []
    },
    {
      "cell_type": "code",
      "source": [
        "# Break dataset into training and testing sets\n",
        "x_train, x_test, y_train, y_test = train_test_split(x,y, test_size = 0.2)\n",
        "x_test"
      ],
      "metadata": {
        "id": "-cyhpQWETkxY"
      },
      "execution_count": null,
      "outputs": []
    },
    {
      "cell_type": "code",
      "source": [
        "# Convert sets to proper tensor types\n",
        "x_train = torch.FloatTensor(x_train)\n",
        "x_test = torch.FloatTensor(x_test)\n",
        "y_train = torch.LongTensor(y_train)\n",
        "y_test = torch.LongTensor(y_test)"
      ],
      "metadata": {
        "id": "yOKsr_LlUSyp"
      },
      "execution_count": null,
      "outputs": []
    },
    {
      "cell_type": "code",
      "source": [],
      "metadata": {
        "id": "69ZsntqrZkoR"
      },
      "execution_count": null,
      "outputs": []
    }
  ]
}